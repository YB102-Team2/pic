{
 "metadata": {
  "name": "",
  "signature": "sha256:dd33a8d46d54f40d772c3ddd3d6d8f69042d0602e24a597378842a21bd83d42e"
 },
 "nbformat": 3,
 "nbformat_minor": 0,
 "worksheets": [
  {
   "cells": [
    {
     "cell_type": "markdown",
     "metadata": {},
     "source": [
      "\u767c\u73fe\u6240\u6709google\u7db2\u7ad9\u539f\u59cb\u78bc\u4e2d\u7684href\u90fd\u542b\u6709onmousedown<br>\n",
      "\u63a5\u8457\u5c31\u662f\u5982\u4f55\u7528\u4e00\u500b\u5927\u81f4\u5171\u901a\u7684\u65b9\u6cd5\u53bb\u722c\u6240\u6709\u7db2\u9801<br>\n",
      "\u4e26\u5c07\u6587\u7ae0\u53d6\u56de\u4f86"
     ]
    },
    {
     "cell_type": "code",
     "collapsed": false,
     "input": [],
     "language": "python",
     "metadata": {},
     "outputs": []
    }
   ],
   "metadata": {}
  }
 ]
}